{
 "cells": [
  {
   "cell_type": "code",
   "execution_count": 59,
   "metadata": {},
   "outputs": [],
   "source": [
    "#import packages\n",
    "import numpy as np\n",
    "import pandas as pd\n",
    "import matplotlib.pyplot as plt\n",
    "import seaborn as sns"
   ]
  },
  {
   "cell_type": "markdown",
   "metadata": {},
   "source": [
    "# Property Assessment 2018\n",
    "- Data is pulled from City of Edmonton Open Data portal.\n",
    "- `nb` stands for neighbourhood\n",
    "- The `ward` and `neighbourhood ID` columns are dropped from the DataFrame\n",
    "    - The ward information is not understandable by the average homeowner\n",
    "    - The neighbourhood name and ID are synonymous and present in all datasets \n",
    "\n",
    "### Set the correct data types for each of the remaining columns and reorder columns"
   ]
  },
  {
   "cell_type": "code",
   "execution_count": 60,
   "metadata": {},
   "outputs": [],
   "source": [
    "col_names = ['acc_num', 'suite', 'number', 'street', 'value', 'class', \n",
    "             'nb_id', 'nb', 'ward', 'garage', 'lat', 'long']\n",
    "col_dtypes = {'acc_num':np.int32, 'suite':object, 'number':object, 'street':object, \n",
    "              'value':np.int32, 'class':'category', 'nb':'category'}\n",
    "col_keep = ['acc_num', 'nb', 'class', 'value', 'suite', 'number', 'street',\n",
    "             'garage', 'lat', 'long']\n",
    "\n",
    "df = pd.read_csv('Property_Assessment_Data__Current_Calendar_Year_.csv', \n",
    "                 header=0, names=col_names, dtype=col_dtypes, \n",
    "                 true_values='Y', false_values='N')[col_keep]"
   ]
  },
  {
   "cell_type": "markdown",
   "metadata": {},
   "source": [
    "# Property Information 2018"
   ]
  },
  {
   "cell_type": "code",
   "execution_count": 26,
   "metadata": {},
   "outputs": [],
   "source": [
    "col_names = ['acc_num', 'suite', 'number', 'street', 'legal_desc', 'zoning', \n",
    "             'lot_size', 'year_built', 'nb_id', 'nb', 'ward', 'lat', 'long']\n",
    "col_dtypes = {'acc_num':np.int32, 'zoning':object, 'lot_size':object, 'year_built':object}\n",
    "col_keep = ['acc_num', 'zoning', 'lot_size', 'year_built', 'nb']\n",
    "\n",
    "df_info = pd.read_csv('Property_Information_Data__Current_Calendar_Year_.csv', \n",
    "                 header=0, names=col_names, dtype=col_dtypes, low_memory=False)[col_keep]"
   ]
  },
  {
   "cell_type": "markdown",
   "metadata": {},
   "source": [
    "### Remove and verify the number of null neighbourhood ID records\n",
    "- This dataset contains one record without a neighbourhood ID.\n",
    "    - This record has a substantially lower property assessment value.\n",
    "    - This record represents an outlier in the nearly 400,000 records"
   ]
  },
  {
   "cell_type": "code",
   "execution_count": 27,
   "metadata": {},
   "outputs": [
    {
     "name": "stdout",
     "output_type": "stream",
     "text": [
      "The number of null neighbourhood records in df = 1\n",
      "The number of null neighbourhood records in df_info = 1\n"
     ]
    }
   ],
   "source": [
    "df_null = df[df.nb.isnull()]\n",
    "df_info_null = df_info[df_info.nb.isnull()]\n",
    "\n",
    "df_cleaned = df[~df.nb.isnull()]\n",
    "df_info_cleaned = df_info[~df_info.nb.isnull()]\n",
    "print('The number of null neighbourhood records in df = {}'.format(len(df_null)))\n",
    "print('The number of null neighbourhood records in df_info = {}'.format(len(df_info_null)))"
   ]
  },
  {
   "cell_type": "markdown",
   "metadata": {},
   "source": [
    "## Merge the data and info DataFrames\n",
    "\n",
    "### Filter the data for only the residential entries. To eliminate large malls and high-rises:\n",
    "\n",
    "![West Edmonton Mall](WEM.png)"
   ]
  },
  {
   "cell_type": "code",
   "execution_count": null,
   "metadata": {},
   "outputs": [],
   "source": [
    "df_info_cleaned = df_info_cleaned[['acc_num', 'zoning', 'lot_size', 'year_built']]\n",
    "\n",
    "df_clean = df_cleaned.merge(df_info_cleaned, on='acc_num')\n",
    "\n",
    "df_clean = df_clean[df_clean['class'] == 'Residential']"
   ]
  },
  {
   "cell_type": "markdown",
   "metadata": {},
   "source": [
    "# Edmonton Criminal Incidents by Neibourhood\n",
    "- Data is pulled from City of Edmonton Open Data portal.\n",
    "- The two data frames will be joined on `nb` neighbourhood name.\n",
    "\n",
    "### Rename the columns more logically and to align with `df_cleaned`"
   ]
  },
  {
   "cell_type": "code",
   "execution_count": null,
   "metadata": {},
   "outputs": [],
   "source": [
    "col_list = ['nb', 'violation', 'year', 'quarter', 'month', 'num_incidents']\n",
    "col_dtypes = {'nb':'category', 'violation':'category', 'year':str, 'month':str}\n",
    "col_order = ['nb', 'violation', 'num_incidents', 'year', 'month', 'quarter']\n",
    "\n",
    "df_crime = pd.read_csv('EPS_Neighbourhood_Criminal_Incidents.csv', header=0, \n",
    "                      names=col_list, dtype=col_dtypes)[col_order]"
   ]
  },
  {
   "cell_type": "markdown",
   "metadata": {},
   "source": [
    "### Convert `year` and `month` to a datetime column"
   ]
  },
  {
   "cell_type": "code",
   "execution_count": null,
   "metadata": {},
   "outputs": [],
   "source": [
    "datetime = pd.to_datetime(df_crime['year'] + '-' + df_crime['month'])\n",
    "\n",
    "df_crime['record_month'] = datetime\n",
    "\n",
    "df_crime = df_crime[['nb', 'violation', 'num_incidents', 'record_month']]\n",
    "\n",
    "df_crime.set_index('record_month', inplace=True)"
   ]
  },
  {
   "cell_type": "markdown",
   "metadata": {},
   "source": [
    "### Splice the crime data for only 2018 to avoid overexposing crime incidents in older neighbourhoods."
   ]
  },
  {
   "cell_type": "code",
   "execution_count": null,
   "metadata": {},
   "outputs": [],
   "source": [
    "crime2018 = df_crime.loc['2018']\n",
    "incidents2018 = crime2018.pivot_table(values='num_incidents', index='nb', \n",
    "                                      columns='violation', fill_value=0, aggfunc='sum')"
   ]
  },
  {
   "cell_type": "markdown",
   "metadata": {},
   "source": [
    "### Merge the two dataframes to generate a complete and cleaned dataset\n",
    "- Reset the index and drop the old index\n",
    "\n",
    "- Filter on just the most recent crime data (2018)"
   ]
  },
  {
   "cell_type": "code",
   "execution_count": null,
   "metadata": {},
   "outputs": [],
   "source": [
    "property_assess = df_clean.merge(incidents2018, left_on='nb', right_index=True)\n",
    "property_assess.reset_index(inplace=True)\n",
    "property_assess.drop('index', axis=1, inplace=True)"
   ]
  },
  {
   "cell_type": "markdown",
   "metadata": {},
   "source": [
    "### Assessment of property outliers\n",
    "\n",
    "- Scatter plots\n",
    "- order data"
   ]
  },
  {
   "cell_type": "code",
   "execution_count": null,
   "metadata": {
    "scrolled": false
   },
   "outputs": [],
   "source": [
    "plt.scatter(property_assess['lot_size'], property_assess['value'])\n",
    "\n",
    "plt.show()"
   ]
  },
  {
   "cell_type": "markdown",
   "metadata": {},
   "source": [
    "### Properties that are assessed significantly higher than the median are privately owned residential complexes. \n",
    "\n",
    "#### As the following investigation of the `.max()` residential valuation shows:\n",
    "\n",
    "![Griesbach Residential Complex](Residential Outlier.png)\n",
    "\n",
    "### Properties that are assessed significantly lower than the median are small subdivided lots, primarily used for advertizing billboards."
   ]
  },
  {
   "cell_type": "code",
   "execution_count": 76,
   "metadata": {},
   "outputs": [
    {
     "data": {
      "text/html": [
       "<div>\n",
       "<style scoped>\n",
       "    .dataframe tbody tr th:only-of-type {\n",
       "        vertical-align: middle;\n",
       "    }\n",
       "\n",
       "    .dataframe tbody tr th {\n",
       "        vertical-align: top;\n",
       "    }\n",
       "\n",
       "    .dataframe thead th {\n",
       "        text-align: right;\n",
       "    }\n",
       "</style>\n",
       "<table border=\"1\" class=\"dataframe\">\n",
       "  <thead>\n",
       "    <tr style=\"text-align: right;\">\n",
       "      <th></th>\n",
       "      <th>acc_num</th>\n",
       "      <th>nb</th>\n",
       "      <th>class</th>\n",
       "      <th>value</th>\n",
       "      <th>suite</th>\n",
       "      <th>number</th>\n",
       "      <th>street</th>\n",
       "      <th>garage</th>\n",
       "      <th>lat</th>\n",
       "      <th>long</th>\n",
       "      <th>...</th>\n",
       "      <th>lot_size</th>\n",
       "      <th>year_built</th>\n",
       "      <th>Assault</th>\n",
       "      <th>Break and Enter</th>\n",
       "      <th>Homicide</th>\n",
       "      <th>Robbery</th>\n",
       "      <th>Sexual Assaults</th>\n",
       "      <th>Theft From Vehicle</th>\n",
       "      <th>Theft Of Vehicle</th>\n",
       "      <th>Theft Over $5000</th>\n",
       "    </tr>\n",
       "  </thead>\n",
       "  <tbody>\n",
       "    <tr>\n",
       "      <th>134120</th>\n",
       "      <td>10015454</td>\n",
       "      <td>GRIESBACH</td>\n",
       "      <td>Residential</td>\n",
       "      <td>41611500</td>\n",
       "      <td>NaN</td>\n",
       "      <td>14604</td>\n",
       "      <td>97 STREET NW</td>\n",
       "      <td>False</td>\n",
       "      <td>53.610393</td>\n",
       "      <td>-113.498265</td>\n",
       "      <td>...</td>\n",
       "      <td>530470</td>\n",
       "      <td>1960</td>\n",
       "      <td>14</td>\n",
       "      <td>12</td>\n",
       "      <td>0</td>\n",
       "      <td>1</td>\n",
       "      <td>1</td>\n",
       "      <td>27</td>\n",
       "      <td>12</td>\n",
       "      <td>0</td>\n",
       "    </tr>\n",
       "  </tbody>\n",
       "</table>\n",
       "<p>1 rows × 21 columns</p>\n",
       "</div>"
      ],
      "text/plain": [
       "         acc_num         nb        class     value suite number        street  \\\n",
       "134120  10015454  GRIESBACH  Residential  41611500   NaN  14604  97 STREET NW   \n",
       "\n",
       "        garage        lat        long        ...        lot_size year_built  \\\n",
       "134120   False  53.610393 -113.498265        ...          530470       1960   \n",
       "\n",
       "       Assault  Break and Enter  Homicide  Robbery  Sexual Assaults  \\\n",
       "134120      14               12         0        1                1   \n",
       "\n",
       "        Theft From Vehicle  Theft Of Vehicle  Theft Over $5000  \n",
       "134120                  27                12                 0  \n",
       "\n",
       "[1 rows x 21 columns]"
      ]
     },
     "execution_count": 76,
     "metadata": {},
     "output_type": "execute_result"
    }
   ],
   "source": [
    "# Significantly low residential property assessments:\n",
    "aster = property_assess[property_assess['nb'] == 'ASTER']\n",
    "industrial = property_assess[property_assess['nb'] == 'ELLERSLIE INDUSTRIAL']\n",
    "\n",
    "# Maximum \n",
    "property_assess[property_assess['value'] == property_assess['value'].max()]"
   ]
  },
  {
   "cell_type": "code",
   "execution_count": 55,
   "metadata": {
    "scrolled": true
   },
   "outputs": [
    {
     "data": {
      "text/plain": [
       "Index(['acc_num', 'nb', 'class', 'value', 'suite', 'number', 'street',\n",
       "       'garage', 'lat', 'long', 'zoning', 'lot_size', 'year_built', 'Assault',\n",
       "       'Break and Enter', 'Homicide', 'Robbery', 'Sexual Assaults',\n",
       "       'Theft From Vehicle', 'Theft Of Vehicle', 'Theft Over $5000'],\n",
       "      dtype='object')"
      ]
     },
     "execution_count": 55,
     "metadata": {},
     "output_type": "execute_result"
    }
   ],
   "source": [
    "property_assess.columns"
   ]
  },
  {
   "cell_type": "code",
   "execution_count": null,
   "metadata": {},
   "outputs": [],
   "source": [
    "plt.figure(1, figsize=(80,25))\n",
    "\n",
    "# Overlay a strip plot on the violin plot\n",
    "sns.stripplot(x='nb', y='value', data=property_assess, size=1.5, jitter=True)\n",
    "\n",
    "plt.xticks(rotation=90)\n",
    "\n",
    "# Display the plot\n",
    "plt.savefig('neighbourhood values.png')\n",
    "plt.show()"
   ]
  },
  {
   "cell_type": "markdown",
   "metadata": {},
   "source": [
    "## Some property assessments are for future developments:\n",
    "\n",
    "![Aster Neighbourhood Investigation](Aster _NSP_Consolidation.pdf)"
   ]
  },
  {
   "cell_type": "code",
   "execution_count": 54,
   "metadata": {},
   "outputs": [
    {
     "data": {
      "text/plain": [
       "Text(0,0.5,'Assessed Value x 10 Billion (CAD)')"
      ]
     },
     "execution_count": 54,
     "metadata": {},
     "output_type": "execute_result"
    },
    {
     "data": {
      "image/png": "[encoded data removed]",
      "text/plain": [
       "<Figure size 432x288 with 1 Axes>"
      ]
     },
     "metadata": {},
     "output_type": "display_data"
    }
   ],
   "source": [
    "df_res = property_assess[property_assess['class'] == 'Residential']\n",
    "ax = df_res['value'].plot(kind='box', title='Stat Box Plot for Residential Properties')\n",
    "ax.set_ylabel('Assessed Value x 10 Billion (CAD)')"
   ]
  },
  {
   "cell_type": "markdown",
   "metadata": {},
   "source": [
    "## Reshaping of data for analysis"
   ]
  },
  {
   "cell_type": "code",
   "execution_count": 23,
   "metadata": {},
   "outputs": [],
   "source": [
    "df_grouped = df_cleaned.groupby(['nb']).mean()\n",
    "df_grouped = df_grouped[['value']]"
   ]
  },
  {
   "cell_type": "code",
   "execution_count": 24,
   "metadata": {},
   "outputs": [],
   "source": [
    "neighbourhood_assess = df_grouped.merge(incidents2018, left_on='nb', right_index=True)\n",
    "\n",
    "nb_assess = neighbourhood_assess.reset_index()"
   ]
  },
  {
   "cell_type": "markdown",
   "metadata": {},
   "source": [
    "## Example Analysis of Incident Type:"
   ]
  },
  {
   "cell_type": "code",
   "execution_count": 25,
   "metadata": {},
   "outputs": [],
   "source": [
    "def incident_dist(incident):\n",
    "    '''A function that takes an criminal incident designator,\n",
    "    (Assault, Break and Enter, Homicide, Robbery, Sexual Assults, Theft From Vehicle,\n",
    "    Theft Of Vehicle, Theft Over $5000) and returns a histogram distribution.\n",
    "    '''\n",
    "    \n",
    "    print('The maximum number of ' + incident + ' for any neighbourhood in Edmonton 2018 is: \\n' \n",
    "          + str(nb_assess[incident].max()))\n",
    "    print('\\nThe neighbourhoods with no ' + incident + ' in 2018 is/are: \\n' \n",
    "          + str(nb_assess[nb_assess[incident] == 0].nb))\n",
    "    print('\\nThe neighbourhood with the most ' + incident + ' in 2018 is: \\n' \n",
    "          + str(nb_assess[nb_assess[incident] == nb_assess[incident].max()].nb))\n",
    "    \n",
    "    ax = nb_assess[incident].plot(kind='hist',range=(0,nb_assess[incident].max()), bins=100, title=incident)\n",
    "    ax.set_ylabel('Number of Neighbourhoods')\n",
    "    ax.set_xlabel('Number of Incidents in 2018')\n",
    "plt.show()"
   ]
  },
  {
   "cell_type": "code",
   "execution_count": 26,
   "metadata": {},
   "outputs": [
    {
     "name": "stdout",
     "output_type": "stream",
     "text": [
      "The maximum number of Assault for any neighbourhood in Edmonton 2018 is: \n",
      "283\n",
      "\n",
      "The neighbourhoods with no Assault in 2018 is/are: \n",
      "3              ALBERTA PARK INDUSTRIAL\n",
      "13          ANTHONY HENDAY TERWILLEGAR\n",
      "16                       ASPEN GARDENS\n",
      "17                               ASTER\n",
      "25                            BEARSPAW\n",
      "27                           BELGRAVIA\n",
      "33                             BERGMAN\n",
      "39                  BLUE QUILL ESTATES\n",
      "48                    BROWN INDUSTRIAL\n",
      "49                      BULYEA HEIGHTS\n",
      "57                     CAMERON HEIGHTS\n",
      "62          CARLETON SQUARE INDUSTRIAL\n",
      "65                        CARTER CREST\n",
      "74                     CLOVER BAR AREA\n",
      "75                          CLOVERDALE\n",
      "76         CORONET ADDITION INDUSTRIAL\n",
      "82               CRYSTALLINA NERA WEST\n",
      "84                           CY BECKER\n",
      "86              DAVIES INDUSTRIAL EAST\n",
      "88                             DECHENE\n",
      "92                     DESROCHERS AREA\n",
      "93                 DOMINION INDUSTRIAL\n",
      "94                            DONSDALE\n",
      "99              EASTGATE BUSINESS PARK\n",
      "102                             EBBERS\n",
      "103                           EDGEMONT\n",
      "104                EDMISTON INDUSTRIAL\n",
      "123                            GARIEPY\n",
      "135                          GRANVILLE\n",
      "136                       GRAYDON HILL\n",
      "                    ...               \n",
      "206                          MAYLIEWAN\n",
      "228                  MORRIS INDUSTRIAL\n",
      "233                      OGILVIE RIDGE\n",
      "240                             OZERNA\n",
      "241                            PAISLEY\n",
      "242              PAPASCHASE INDUSTRIAL\n",
      "243                          PARKALLEN\n",
      "247                   PATRICIA HEIGHTS\n",
      "252                      POTTER GREENS\n",
      "259                 RAMPART INDUSTRIAL\n",
      "262                     RHATIGAN RIDGE\n",
      "266                        RIO TERRACE\n",
      "271              RIVER VALLEY KINNAIRD\n",
      "273             RIVER VALLEY RIVERSIDE\n",
      "274           RIVER VALLEY TERWILLEGAR\n",
      "277              RIVER VALLEY WHITEMUD\n",
      "280                     RIVERVIEW AREA\n",
      "289    RURAL NORTH EAST SOUTH STURGEON\n",
      "290                RURAL WEST BIG LAKE\n",
      "304               SOUTHEAST INDUSTRIAL\n",
      "306                           STARLING\n",
      "308                     STEWART GREENS\n",
      "325          THE ORCHARDS AT ELLERSLIE\n",
      "328                     TRUMPETER AREA\n",
      "335                  WEDGEWOOD HEIGHTS\n",
      "341          WEST SHEFFIELD INDUSTRIAL\n",
      "347                   WHITE INDUSTRIAL\n",
      "352    WINTERBURN INDUSTRIAL AREA EAST\n",
      "356           YELLOWHEAD CORRIDOR WEST\n",
      "358              YOUNGSTOWN INDUSTRIAL\n",
      "Name: nb, Length: 77, dtype: category\n",
      "Categories (395, object): [ABBOTTSFIELD, ALBANY, ALBERTA AVENUE, ALBERTA PARK INDUSTRIAL, ..., MILL WOODS PARK, RIVER VALLEY LAURIER, RIVER VALLEY LESSARD NORTH, GLENRIDDING RAVINE]\n",
      "\n",
      "The neighbourhood with the most Assault in 2018 is: \n",
      "96    DOWNTOWN\n",
      "Name: nb, dtype: category\n",
      "Categories (395, object): [ABBOTTSFIELD, ALBANY, ALBERTA AVENUE, ALBERTA PARK INDUSTRIAL, ..., MILL WOODS PARK, RIVER VALLEY LAURIER, RIVER VALLEY LESSARD NORTH, GLENRIDDING RAVINE]\n"
     ]
    },
    {
     "data": {
      "image/png": "[encoded data removed]",
      "text/plain": [
       "<Figure size 432x288 with 1 Axes>"
      ]
     },
     "metadata": {},
     "output_type": "display_data"
    }
   ],
   "source": [
    "incident_dist('Assault')"
   ]
  },
  {
   "cell_type": "code",
   "execution_count": null,
   "metadata": {},
   "outputs": [],
   "source": []
  }
 ],
 "metadata": {
  "kernelspec": {
   "display_name": "Python 3",
   "language": "python",
   "name": "python3"
  },
  "language_info": {
   "codemirror_mode": {
    "name": "ipython",
    "version": 3
   },
   "file_extension": ".py",
   "mimetype": "text/x-python",
   "name": "python",
   "nbconvert_exporter": "python",
   "pygments_lexer": "ipython3",
   "version": "3.6.5"
  }
 },
 "nbformat": 4,
 "nbformat_minor": 2
}
