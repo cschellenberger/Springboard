{
 "cells": [
  {
   "cell_type": "code",
   "execution_count": 51,
   "metadata": {},
   "outputs": [],
   "source": [
    "#import packages\n",
    "import numpy as np\n",
    "import pandas as pd\n",
    "import matplotlib.pyplot as plt"
   ]
  },
  {
   "cell_type": "markdown",
   "metadata": {},
   "source": [
    "# Property Assessment Indicators\n",
    "- Data is pulled from City of Edmonton Open Data portal."
   ]
  },
  {
   "cell_type": "code",
   "execution_count": 52,
   "metadata": {},
   "outputs": [],
   "source": [
    "df = pd.read_csv('Property_Assessment_Data__Current_Calendar_Year_.csv', low_memory=False)"
   ]
  },
  {
   "cell_type": "markdown",
   "metadata": {},
   "source": [
    "### Drop the City of Edmonton's account number and rename the columns more logically\n",
    "- `nb` stands for neighbourhood"
   ]
  },
  {
   "cell_type": "code",
   "execution_count": 53,
   "metadata": {},
   "outputs": [],
   "source": [
    "df.drop('Account Number', axis=1, inplace=True)\n",
    "df.columns = ['suite', 'number', 'street', 'value', 'class', 'nb_id', 'nb', 'ward', 'garage', 'lat', 'long']"
   ]
  },
  {
   "cell_type": "markdown",
   "metadata": {},
   "source": [
    "### Remove and verify the number of null records\n",
    "- This dataset contains one record without a neighbourhood ID.\n",
    "    - This record has a substantially lower property assessment value.\n",
    "    - This record represents an outlier in the nearly 400,000 records"
   ]
  },
  {
   "cell_type": "code",
   "execution_count": 54,
   "metadata": {},
   "outputs": [
    {
     "name": "stdout",
     "output_type": "stream",
     "text": [
      "number of null records = 1\n"
     ]
    }
   ],
   "source": [
    "df_null = df[df.nb_id.isnull()]\n",
    "\n",
    "df_clean = df[~df.nb_id.isnull()]\n",
    "print('number of null records = {}'.format(len(df_null)))"
   ]
  },
  {
   "cell_type": "markdown",
   "metadata": {},
   "source": [
    "# Edmonton Criminal Incidents by Neibourhood\n",
    "- Data is pulled from City of Edmonton Open Data portal.\n",
    "- The two data frames will be joined on `nb` neighbourhood name."
   ]
  },
  {
   "cell_type": "code",
   "execution_count": 74,
   "metadata": {},
   "outputs": [],
   "source": [
    "df_crim = pd.read_csv('EPS_Neighbourhood_Criminal_Incidents.csv', \n",
    "                      dtype={'Incident Reported Year':str, 'Incident Reported Month':str})"
   ]
  },
  {
   "cell_type": "markdown",
   "metadata": {},
   "source": [
    "### Rename the columns more logically and to align with `df_cleaned`"
   ]
  },
  {
   "cell_type": "code",
   "execution_count": 75,
   "metadata": {},
   "outputs": [],
   "source": [
    "df_crim.columns = ['nb', 'violation', 'year', 'quarter', 'month', 'num_incidents']"
   ]
  },
  {
   "cell_type": "markdown",
   "metadata": {},
   "source": [
    "### Pivot the table to provide a clean merge and representation of the total number of criminal incidents between 2009-2018 for each of the 8 violation categories"
   ]
  },
  {
   "cell_type": "code",
   "execution_count": 76,
   "metadata": {},
   "outputs": [],
   "source": [
    "nb_incidents = df_crim_clean.pivot_table(index='nb', values='num_incidents', columns='violation', aggfunc='sum')"
   ]
  },
  {
   "cell_type": "markdown",
   "metadata": {},
   "source": [
    "### Merge the two dataframes to generate a complete and cleaned dataset\n",
    "- Reset the index and drop the old index"
   ]
  },
  {
   "cell_type": "code",
   "execution_count": 77,
   "metadata": {},
   "outputs": [
    {
     "data": {
      "text/html": [
       "<div>\n",
       "<style scoped>\n",
       "    .dataframe tbody tr th:only-of-type {\n",
       "        vertical-align: middle;\n",
       "    }\n",
       "\n",
       "    .dataframe tbody tr th {\n",
       "        vertical-align: top;\n",
       "    }\n",
       "\n",
       "    .dataframe thead th {\n",
       "        text-align: right;\n",
       "    }\n",
       "</style>\n",
       "<table border=\"1\" class=\"dataframe\">\n",
       "  <thead>\n",
       "    <tr style=\"text-align: right;\">\n",
       "      <th></th>\n",
       "      <th>suite</th>\n",
       "      <th>number</th>\n",
       "      <th>street</th>\n",
       "      <th>value</th>\n",
       "      <th>class</th>\n",
       "      <th>nb_id</th>\n",
       "      <th>nb</th>\n",
       "      <th>ward</th>\n",
       "      <th>garage</th>\n",
       "      <th>lat</th>\n",
       "      <th>long</th>\n",
       "      <th>Assault</th>\n",
       "      <th>Break and Enter</th>\n",
       "      <th>Homicide</th>\n",
       "      <th>Robbery</th>\n",
       "      <th>Sexual Assaults</th>\n",
       "      <th>Theft From Vehicle</th>\n",
       "      <th>Theft Of Vehicle</th>\n",
       "      <th>Theft Over $5000</th>\n",
       "    </tr>\n",
       "  </thead>\n",
       "  <tbody>\n",
       "    <tr>\n",
       "      <th>0</th>\n",
       "      <td>1005</td>\n",
       "      <td>10011.0</td>\n",
       "      <td>123 STREET NW</td>\n",
       "      <td>259000</td>\n",
       "      <td>Residential</td>\n",
       "      <td>1150.0</td>\n",
       "      <td>OLIVER</td>\n",
       "      <td>Ward 6</td>\n",
       "      <td>N</td>\n",
       "      <td>53.540949</td>\n",
       "      <td>-113.533619</td>\n",
       "      <td>1314.0</td>\n",
       "      <td>973.0</td>\n",
       "      <td>8.0</td>\n",
       "      <td>295.0</td>\n",
       "      <td>151.0</td>\n",
       "      <td>1941.0</td>\n",
       "      <td>903.0</td>\n",
       "      <td>43.0</td>\n",
       "    </tr>\n",
       "  </tbody>\n",
       "</table>\n",
       "</div>"
      ],
      "text/plain": [
       "  suite   number         street   value        class   nb_id      nb    ward  \\\n",
       "0  1005  10011.0  123 STREET NW  259000  Residential  1150.0  OLIVER  Ward 6   \n",
       "\n",
       "  garage        lat        long  Assault  Break and Enter  Homicide  Robbery  \\\n",
       "0      N  53.540949 -113.533619   1314.0            973.0       8.0    295.0   \n",
       "\n",
       "   Sexual Assaults  Theft From Vehicle  Theft Of Vehicle  Theft Over $5000  \n",
       "0            151.0              1941.0             903.0              43.0  "
      ]
     },
     "execution_count": 77,
     "metadata": {},
     "output_type": "execute_result"
    }
   ],
   "source": [
    "property_assess = df_clean.merge(nb_incidents, left_on='nb', right_index=True)\n",
    "property_assess.reset_index(inplace=True)\n",
    "property_assess.drop('index', axis=1, inplace=True)\n",
    "property_assess.head(1)"
   ]
  },
  {
   "cell_type": "markdown",
   "metadata": {},
   "source": [
    "### Assessment of property outliers"
   ]
  },
  {
   "cell_type": "code",
   "execution_count": 63,
   "metadata": {},
   "outputs": [
    {
     "data": {
      "text/plain": [
       "Text(0,0.5,'Assessed Value in Trillions (CAD)')"
      ]
     },
     "execution_count": 63,
     "metadata": {},
     "output_type": "execute_result"
    },
    {
     "data": {
      "image/png": "[encoded data removed]",
      "text/plain": [
       "<Figure size 432x288 with 1 Axes>"
      ]
     },
     "metadata": {},
     "output_type": "display_data"
    }
   ],
   "source": [
    "ax = property_assess['value'].plot(kind='box', title='Stat Box Plot for Edmonton Properties')\n",
    "ax.set_ylabel('Assessed Value in Trillions (CAD)')"
   ]
  },
  {
   "cell_type": "code",
   "execution_count": 66,
   "metadata": {},
   "outputs": [
    {
     "data": {
      "text/plain": [
       "Text(0,0.5,'Assessed Value x 10 Billion (CAD)')"
      ]
     },
     "execution_count": 66,
     "metadata": {},
     "output_type": "execute_result"
    },
    {
     "data": {
      "image/png": "[encoded data removed]",
      "text/plain": [
       "<Figure size 432x288 with 1 Axes>"
      ]
     },
     "metadata": {},
     "output_type": "display_data"
    }
   ],
   "source": [
    "df_res = property_assess[property_assess['class'] == 'Residential']\n",
    "ax = df_res['value'].plot(kind='box', title='Stat Box Plot for Residential Properties')\n",
    "ax.set_ylabel('Assessed Value x 10 Billion (CAD)')"
   ]
  },
  {
   "cell_type": "code",
   "execution_count": 73,
   "metadata": {},
   "outputs": [
    {
     "name": "stderr",
     "output_type": "stream",
     "text": [
      "/anaconda3/lib/python3.6/site-packages/ipykernel_launcher.py:1: UserWarning: Boolean Series key will be reindexed to match DataFrame index.\n",
      "  \"\"\"Entry point for launching an IPython kernel.\n"
     ]
    },
    {
     "data": {
      "image/png": "[encoded data removed]",
      "text/plain": [
       "<Figure size 432x288 with 1 Axes>"
      ]
     },
     "metadata": {},
     "output_type": "display_data"
    }
   ],
   "source": [
    "df_norm = df_res[property_assess['value'] <= 1000000]\n",
    "ax = df_norm['value'].plot(kind='box', title='Residential Properties 5M or less')"
   ]
  }
 ],
 "metadata": {
  "kernelspec": {
   "display_name": "Python 3",
   "language": "python",
   "name": "python3"
  },
  "language_info": {
   "codemirror_mode": {
    "name": "ipython",
    "version": 3
   },
   "file_extension": ".py",
   "mimetype": "text/x-python",
   "name": "python",
   "nbconvert_exporter": "python",
   "pygments_lexer": "ipython3",
   "version": "3.6.5"
  }
 },
 "nbformat": 4,
 "nbformat_minor": 2
}
