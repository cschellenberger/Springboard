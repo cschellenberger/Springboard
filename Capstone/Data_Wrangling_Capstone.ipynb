{
 "cells": [
  {
   "cell_type": "code",
   "execution_count": 1,
   "metadata": {},
   "outputs": [],
   "source": [
    "#import packages\n",
    "import numpy as np\n",
    "import pandas as pd\n",
    "import matplotlib.pyplot as plt"
   ]
  },
  {
   "cell_type": "markdown",
   "metadata": {},
   "source": [
    "# Property Assessment 2018\n",
    "- Data is pulled from City of Edmonton Open Data portal.\n",
    "\n",
    "- `nb` stands for neighbourhood\n",
    "\n",
    "### Set the correct data types for each of the remaining columns and reorder columns"
   ]
  },
  {
   "cell_type": "code",
   "execution_count": 2,
   "metadata": {},
   "outputs": [],
   "source": [
    "col_names = ['acc_num', 'suite', 'number', 'street', 'value', 'class', \n",
    "             'nb_id', 'nb', 'ward', 'garage', 'lat', 'long']\n",
    "col_dtypes = {'acc_num':np.int32, 'suite':object, 'number':object, 'street':object, \n",
    "              'value':np.int32, 'class':'category', 'nb':'category'}\n",
    "col_keep = ['acc_num', 'nb', 'class', 'value', 'suite', 'number', 'street',\n",
    "             'garage']\n",
    "\n",
    "df = pd.read_csv('Property_Assessment_Data__Current_Calendar_Year_.csv', \n",
    "                 header=0, names=col_names, dtype=col_dtypes, \n",
    "                 true_values='Y', false_values='N')[col_keep]"
   ]
  },
  {
   "cell_type": "markdown",
   "metadata": {},
   "source": [
    "# Property Information 2018"
   ]
  },
  {
   "cell_type": "code",
   "execution_count": 3,
   "metadata": {},
   "outputs": [],
   "source": [
    "col_names = ['acc_num', 'suite', 'number', 'street', 'legal_desc', 'zoning', \n",
    "             'lot_size', 'year_built', 'nb_id', 'nb', 'ward', 'lat', 'long']\n",
    "col_dtypes = {'acc_num':np.int32, 'zoning':object, 'lot_size':object, 'year_built':object}\n",
    "col_keep = ['acc_num', 'zoning', 'lot_size', 'year_built', 'nb']\n",
    "\n",
    "df_info = pd.read_csv('Property_Information_Data__Current_Calendar_Year_.csv', \n",
    "                 header=0, names=col_names, dtype=col_dtypes, low_memory=False)[col_keep]"
   ]
  },
  {
   "cell_type": "markdown",
   "metadata": {},
   "source": [
    "### Remove and verify the number of null neighbourhood ID records\n",
    "- This dataset contains one record without a neighbourhood ID.\n",
    "    - This record has a substantially lower property assessment value.\n",
    "    - This record represents an outlier in the nearly 400,000 records"
   ]
  },
  {
   "cell_type": "code",
   "execution_count": 4,
   "metadata": {},
   "outputs": [
    {
     "name": "stdout",
     "output_type": "stream",
     "text": [
      "The number of null neighbourhood records in df = 1\n",
      "The number of null neighbourhood records in df_info = 1\n"
     ]
    }
   ],
   "source": [
    "df_null = df[df.nb.isnull()]\n",
    "df_info_null = df_info[df_info.nb.isnull()]\n",
    "\n",
    "df_cleaned = df[~df.nb.isnull()]\n",
    "df_info_cleaned = df_info[~df_info.nb.isnull()]\n",
    "print('The number of null neighbourhood records in df = {}'.format(len(df_null)))\n",
    "print('The number of null neighbourhood records in df_info = {}'.format(len(df_info_null)))"
   ]
  },
  {
   "cell_type": "markdown",
   "metadata": {},
   "source": [
    "## Merge the data and info DataFrames"
   ]
  },
  {
   "cell_type": "code",
   "execution_count": 5,
   "metadata": {},
   "outputs": [],
   "source": [
    "df_info_cleaned = df_info_cleaned[['acc_num', 'zoning', 'lot_size', 'year_built']]\n",
    "\n",
    "df_clean = df_cleaned.merge(df_info_cleaned, on='acc_num')"
   ]
  },
  {
   "cell_type": "markdown",
   "metadata": {},
   "source": [
    "# Edmonton Criminal Incidents by Neibourhood\n",
    "- Data is pulled from City of Edmonton Open Data portal.\n",
    "- The two data frames will be joined on `nb` neighbourhood name.\n",
    "\n",
    "### Rename the columns more logically and to align with `df_cleaned`"
   ]
  },
  {
   "cell_type": "code",
   "execution_count": 6,
   "metadata": {},
   "outputs": [],
   "source": [
    "col_list = ['nb', 'violation', 'year', 'quarter', 'month', 'num_incidents']\n",
    "col_dtypes = {'nb':'category', 'violation':'category', 'year':str, 'month':str}\n",
    "col_order = ['nb', 'violation', 'num_incidents', 'year', 'month', 'quarter']\n",
    "\n",
    "df_crim = pd.read_csv('EPS_Neighbourhood_Criminal_Incidents.csv', header=0, \n",
    "                      names=col_list, dtype=col_dtypes)[col_order]"
   ]
  },
  {
   "cell_type": "markdown",
   "metadata": {},
   "source": [
    "### Convert `year` and `month` to a datetime column"
   ]
  },
  {
   "cell_type": "code",
   "execution_count": 7,
   "metadata": {},
   "outputs": [],
   "source": [
    "datetime = pd.to_datetime(df_crim['year'] + '-' + df_crim['month'])\n",
    "\n",
    "df_crim['record_month'] = datetime\n",
    "\n",
    "df_crim_clean = df_crim[['nb', 'violation', 'num_incidents', 'record_month']]"
   ]
  },
  {
   "cell_type": "markdown",
   "metadata": {},
   "source": [
    "### Pivot the table to provide a clean merge and representation of the total number of criminal incidents between 2009-2018 for each of the 8 violation categories"
   ]
  },
  {
   "cell_type": "code",
   "execution_count": 8,
   "metadata": {},
   "outputs": [],
   "source": [
    "nb_incidents = df_crim.pivot_table(index='nb', values='num_incidents', columns='violation', aggfunc='sum')"
   ]
  },
  {
   "cell_type": "markdown",
   "metadata": {},
   "source": [
    "### Merge the two dataframes to generate a complete and cleaned dataset\n",
    "- Reset the index and drop the old index"
   ]
  },
  {
   "cell_type": "code",
   "execution_count": 9,
   "metadata": {},
   "outputs": [
    {
     "data": {
      "text/html": [
       "<div>\n",
       "<style scoped>\n",
       "    .dataframe tbody tr th:only-of-type {\n",
       "        vertical-align: middle;\n",
       "    }\n",
       "\n",
       "    .dataframe tbody tr th {\n",
       "        vertical-align: top;\n",
       "    }\n",
       "\n",
       "    .dataframe thead th {\n",
       "        text-align: right;\n",
       "    }\n",
       "</style>\n",
       "<table border=\"1\" class=\"dataframe\">\n",
       "  <thead>\n",
       "    <tr style=\"text-align: right;\">\n",
       "      <th></th>\n",
       "      <th>acc_num</th>\n",
       "      <th>nb</th>\n",
       "      <th>class</th>\n",
       "      <th>value</th>\n",
       "      <th>suite</th>\n",
       "      <th>number</th>\n",
       "      <th>street</th>\n",
       "      <th>garage</th>\n",
       "      <th>zoning</th>\n",
       "      <th>lot_size</th>\n",
       "      <th>year_built</th>\n",
       "      <th>Assault</th>\n",
       "      <th>Break and Enter</th>\n",
       "      <th>Homicide</th>\n",
       "      <th>Robbery</th>\n",
       "      <th>Sexual Assaults</th>\n",
       "      <th>Theft From Vehicle</th>\n",
       "      <th>Theft Of Vehicle</th>\n",
       "      <th>Theft Over $5000</th>\n",
       "    </tr>\n",
       "  </thead>\n",
       "  <tbody>\n",
       "    <tr>\n",
       "      <th>0</th>\n",
       "      <td>1315092</td>\n",
       "      <td>OLIVER</td>\n",
       "      <td>Residential</td>\n",
       "      <td>259000</td>\n",
       "      <td>1005</td>\n",
       "      <td>10011</td>\n",
       "      <td>123 STREET NW</td>\n",
       "      <td>False</td>\n",
       "      <td>DC1</td>\n",
       "      <td>NaN</td>\n",
       "      <td>1981</td>\n",
       "      <td>1314.0</td>\n",
       "      <td>973.0</td>\n",
       "      <td>8.0</td>\n",
       "      <td>295.0</td>\n",
       "      <td>151.0</td>\n",
       "      <td>1941.0</td>\n",
       "      <td>903.0</td>\n",
       "      <td>43.0</td>\n",
       "    </tr>\n",
       "  </tbody>\n",
       "</table>\n",
       "</div>"
      ],
      "text/plain": [
       "   acc_num      nb        class   value suite number         street  garage  \\\n",
       "0  1315092  OLIVER  Residential  259000  1005  10011  123 STREET NW   False   \n",
       "\n",
       "  zoning lot_size year_built  Assault  Break and Enter  Homicide  Robbery  \\\n",
       "0    DC1      NaN       1981   1314.0            973.0       8.0    295.0   \n",
       "\n",
       "   Sexual Assaults  Theft From Vehicle  Theft Of Vehicle  Theft Over $5000  \n",
       "0            151.0              1941.0             903.0              43.0  "
      ]
     },
     "execution_count": 9,
     "metadata": {},
     "output_type": "execute_result"
    }
   ],
   "source": [
    "property_assess = df_clean.merge(nb_incidents, left_on='nb', right_index=True)\n",
    "property_assess.reset_index(inplace=True)\n",
    "property_assess.drop('index', axis=1, inplace=True)\n",
    "property_assess.head(1)"
   ]
  },
  {
   "cell_type": "markdown",
   "metadata": {},
   "source": [
    "### Assessment of property outliers"
   ]
  },
  {
   "cell_type": "code",
   "execution_count": 63,
   "metadata": {},
   "outputs": [
    {
     "data": {
      "text/plain": [
       "Text(0,0.5,'Assessed Value in Trillions (CAD)')"
      ]
     },
     "execution_count": 63,
     "metadata": {},
     "output_type": "execute_result"
    },
    {
     "data": {
      "image/png": "[encoded data removed]",
      "text/plain": [
       "<Figure size 432x288 with 1 Axes>"
      ]
     },
     "metadata": {},
     "output_type": "display_data"
    }
   ],
   "source": [
    "ax = property_assess['value'].plot(kind='box', title='Stat Box Plot for Edmonton Properties')\n",
    "ax.set_ylabel('Assessed Value in Trillions (CAD)')"
   ]
  },
  {
   "cell_type": "code",
   "execution_count": 66,
   "metadata": {},
   "outputs": [
    {
     "data": {
      "text/plain": [
       "Text(0,0.5,'Assessed Value x 10 Billion (CAD)')"
      ]
     },
     "execution_count": 66,
     "metadata": {},
     "output_type": "execute_result"
    },
    {
     "data": {
      "image/png": "[encoded data removed]",
      "text/plain": [
       "<Figure size 432x288 with 1 Axes>"
      ]
     },
     "metadata": {},
     "output_type": "display_data"
    }
   ],
   "source": [
    "df_res = property_assess[property_assess['class'] == 'Residential']\n",
    "ax = df_res['value'].plot(kind='box', title='Stat Box Plot for Residential Properties')\n",
    "ax.set_ylabel('Assessed Value x 10 Billion (CAD)')"
   ]
  },
  {
   "cell_type": "markdown",
   "metadata": {},
   "source": [
    "## Reshaping of data for analysis"
   ]
  },
  {
   "cell_type": "code",
   "execution_count": 10,
   "metadata": {},
   "outputs": [],
   "source": [
    "df_grouped = df_cleaned.groupby(['nb']).mean()\n",
    "df_grouped = df_grouped[['value']]"
   ]
  },
  {
   "cell_type": "code",
   "execution_count": 11,
   "metadata": {},
   "outputs": [],
   "source": [
    "nb_incidents = df_crim.pivot_table(index='nb', values='num_incidents', \n",
    "                                   columns='violation', aggfunc='sum', fill_value=0)\n",
    "\n",
    "neighbourhood_assess = df_grouped.merge(nb_incidents, left_on='nb', right_index=True)\n",
    "\n",
    "nb_assess = neighbourhood_assess.reset_index()"
   ]
  },
  {
   "cell_type": "markdown",
   "metadata": {},
   "source": [
    "## Example Analysis of Incident Type:"
   ]
  },
  {
   "cell_type": "code",
   "execution_count": 12,
   "metadata": {},
   "outputs": [],
   "source": [
    "def incident_dist(incident, high_count):\n",
    "    '''A function that takes an criminal incident designator,\n",
    "    (Assault, Break and Enter, Homicide, Robbery, Sexual Assults, Theft From Vehicle,\n",
    "    Theft Of Vehicle, Theft Over $5000) and returns a histogram distribution.\n",
    "    high_count - is an int that represents the highest incident count for a neighbourhood\n",
    "    '''\n",
    "    \n",
    "    print('The maximum number of ' + incident + ' for any neighbourhood in Edmonton is: \\n' \n",
    "          + str(nb_assess[incident].max()))\n",
    "    print('\\nThe neighbourhoods with no ' + incident + ' is/are: \\n' \n",
    "          + str(nb_assess[nb_assess[incident] == 0].nb))\n",
    "    print('\\nThe neighbourhood with the most ' + incident + ' is: \\n' \n",
    "          + str(nb_assess[nb_assess[incident] == nb_assess[incident].max()].nb))\n",
    "    \n",
    "    ax = nb_assess[incident].plot(kind='hist',range=(0,high_count), bins=100, title=incident)\n",
    "    ax.set_ylabel('Number of Neighbourhoods')\n",
    "    ax.set_xlabel('Number of Incidents from 2009-18')\n",
    "plt.show()"
   ]
  },
  {
   "cell_type": "code",
   "execution_count": 13,
   "metadata": {},
   "outputs": [
    {
     "name": "stdout",
     "output_type": "stream",
     "text": [
      "The maximum number of Theft Of Vehicle for any neighbourhood in Edmonton is: \n",
      "959\n",
      "\n",
      "The neighbourhoods with no Theft Of Vehicle is/are: \n",
      "11         ANTHONY HENDAY CLAREVIEW\n",
      "14     ANTHONY HENDAY LAKE DISTRICT\n",
      "24                            ASTER\n",
      "45            BLACKMUD CREEK RAVINE\n",
      "229         MILL CREEK RAVINE SOUTH\n",
      "279       RIVER VALLEY CAPITOL HILL\n",
      "366     WHITEMUD CREEK RAVINE SOUTH\n",
      "370                 WINDERMERE AREA\n",
      "Name: nb, dtype: category\n",
      "Categories (395, object): [ABBOTTSFIELD, ALBANY, ALBERTA AVENUE, ALBERTA PARK INDUSTRIAL, ..., MILL WOODS PARK, RIVER VALLEY LAURIER, RIVER VALLEY LESSARD NORTH, GLENRIDDING RAVINE]\n",
      "\n",
      "The neighbourhood with the most Theft Of Vehicle is: \n",
      "104    DOWNTOWN\n",
      "Name: nb, dtype: category\n",
      "Categories (395, object): [ABBOTTSFIELD, ALBANY, ALBERTA AVENUE, ALBERTA PARK INDUSTRIAL, ..., MILL WOODS PARK, RIVER VALLEY LAURIER, RIVER VALLEY LESSARD NORTH, GLENRIDDING RAVINE]\n"
     ]
    },
    {
     "data": {
      "image/png": "[encoded data removed]",
      "text/plain": [
       "<Figure size 432x288 with 1 Axes>"
      ]
     },
     "metadata": {},
     "output_type": "display_data"
    }
   ],
   "source": [
    "incident_dist('Theft Of Vehicle',1000)"
   ]
  },
  {
   "cell_type": "code",
   "execution_count": null,
   "metadata": {},
   "outputs": [],
   "source": []
  }
 ],
 "metadata": {
  "kernelspec": {
   "display_name": "Python 3",
   "language": "python",
   "name": "python3"
  },
  "language_info": {
   "codemirror_mode": {
    "name": "ipython",
    "version": 3
   },
   "file_extension": ".py",
   "mimetype": "text/x-python",
   "name": "python",
   "nbconvert_exporter": "python",
   "pygments_lexer": "ipython3",
   "version": "3.6.5"
  }
 },
 "nbformat": 4,
 "nbformat_minor": 2
}
