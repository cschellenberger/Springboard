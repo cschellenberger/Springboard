{
 "cells": [
  {
   "cell_type": "markdown",
   "metadata": {},
   "source": [
    "This exercise will require you to pull some data from the Qunadl API. Qaundl is currently the most widely used aggregator of financial market data."
   ]
  },
  {
   "cell_type": "markdown",
   "metadata": {},
   "source": [
    "As a first step, you will need to register a free account on the http://www.quandl.com website."
   ]
  },
  {
   "cell_type": "markdown",
   "metadata": {},
   "source": [
    "After you register, you will be provided with a unique API key, that you should store:"
   ]
  },
  {
   "cell_type": "code",
   "execution_count": 8,
   "metadata": {},
   "outputs": [],
   "source": [
    "# Store the API key as a string - according to PEP8, constants are always named in all upper case\n",
    "API_KEY = 'Ud6c5S5oCannTnQ46yk_'"
   ]
  },
  {
   "cell_type": "markdown",
   "metadata": {},
   "source": [
    "Qaundl has a large number of data sources, but, unfortunately, most of them require a Premium subscription. Still, there are also a good number of free datasets."
   ]
  },
  {
   "cell_type": "markdown",
   "metadata": {},
   "source": [
    "For this mini project, we will focus on equities data from the Frankfurt Stock Exhange (FSE), which is available for free. We'll try and analyze the stock prices of a company called Carl Zeiss Meditec, which manufactures tools for eye examinations, as well as medical lasers for laser eye surgery: https://www.zeiss.com/meditec/int/home.html. The company is listed under the stock ticker AFX_X."
   ]
  },
  {
   "cell_type": "markdown",
   "metadata": {},
   "source": [
    "You can find the detailed Quandl API instructions here: https://docs.quandl.com/docs/time-series"
   ]
  },
  {
   "cell_type": "markdown",
   "metadata": {},
   "source": [
    "While there is a dedicated Python package for connecting to the Quandl API, we would prefer that you use the *requests* package, which can be easily downloaded using *pip* or *conda*. You can find the documentation for the package here: http://docs.python-requests.org/en/master/ "
   ]
  },
  {
   "cell_type": "markdown",
   "metadata": {},
   "source": [
    "Finally, apart from the *requests* package, you are encouraged to not use any third party Python packages, such as *pandas*, and instead focus on what's available in the Python Standard Library (the *collections* module might come in handy: https://pymotw.com/3/collections/).\n",
    "Also, since you won't have access to DataFrames, you are encouraged to us Python's native data structures - preferably dictionaries, though some questions can also be answered using lists.\n",
    "You can read more on these data structures here: https://docs.python.org/3/tutorial/datastructures.html"
   ]
  },
  {
   "cell_type": "markdown",
   "metadata": {},
   "source": [
    "Keep in mind that the JSON responses you will be getting from the API map almost one-to-one to Python's dictionaries. Unfortunately, they can be very nested, so make sure you read up on indexing dictionaries in the documentation provided above."
   ]
  },
  {
   "cell_type": "code",
   "execution_count": 9,
   "metadata": {},
   "outputs": [],
   "source": [
    "# First, import the relevant modules\n",
    "import requests\n",
    "from collections import defaultdict\n",
    "from datetime import datetime"
   ]
  },
  {
   "cell_type": "code",
   "execution_count": 10,
   "metadata": {},
   "outputs": [],
   "source": [
    "# Now, call the Quandl API and pull out a small sample of the data (only one day) to get a glimpse\n",
    "# into the JSON structure that will be returned\n",
    "url = 'https://www.quandl.com/api/v3/datasets/FSE/AFX_X.json?api_key={}'.format(API_KEY)\n",
    "\n",
    "# Package the request, send the request and catch the response: r\n",
    "r = requests.get(url)\n",
    "\n",
    "# Decode the JSON data into a dictionary: json_data\n",
    "data = r.json()"
   ]
  },
  {
   "cell_type": "code",
   "execution_count": 11,
   "metadata": {},
   "outputs": [
    {
     "name": "stdout",
     "output_type": "stream",
     "text": [
      "id\n",
      "dataset_code\n",
      "database_code\n",
      "name\n",
      "description\n",
      "refreshed_at\n",
      "newest_available_date\n",
      "oldest_available_date\n",
      "column_names\n",
      "frequency\n",
      "type\n",
      "premium\n",
      "limit\n",
      "transform\n",
      "column_index\n",
      "start_date\n",
      "end_date\n",
      "data\n",
      "collapse\n",
      "order\n",
      "database_id\n"
     ]
    }
   ],
   "source": [
    "# Inspect the JSON structure of the object you created, and take note of how nested it is,\n",
    "# as well as the overall structure\n",
    "# ['dataset']['column_names'], ['dataset']['data']\n",
    "# Print each key-value pair in json_data\n",
    "for k in data['dataset'].keys():\n",
    "    # print(k + ': ', data[k])\n",
    "    print(k)"
   ]
  },
  {
   "cell_type": "markdown",
   "metadata": {},
   "source": [
    "These are your tasks for this mini project:\n",
    "\n",
    "1. Collect data from the Franfurt Stock Exchange, for the ticker AFX_X, for the whole year 2017 (keep in mind that the date format is YYYY-MM-DD). **['dataset']['column_names'], ['dataset']['data']**\n",
    "2. Convert the returned JSON object into a Python dictionary.\n",
    "3. Calculate what the highest and lowest opening prices were for the stock in this period.\n",
    "4. What was the largest change in any one day (based on High and Low price)?\n",
    "5. What was the largest change between any two days (based on Closing Price)?\n",
    "6. What was the average daily trading volume during this year?\n",
    "7. (Optional) What was the median trading volume during this year. (Note: you may need to implement your own function for calculating the median.)"
   ]
  },
  {
   "cell_type": "markdown",
   "metadata": {
    "collapsed": true
   },
   "source": [
    "# Question 1 & 2"
   ]
  },
  {
   "cell_type": "code",
   "execution_count": 12,
   "metadata": {},
   "outputs": [
    {
     "name": "stdout",
     "output_type": "stream",
     "text": [
      "['Date', 'Open', 'High', 'Low', 'Close', 'Change', 'Traded Volume', 'Turnover', 'Last Price of the Day', 'Daily Traded Units', 'Daily Turnover']\n"
     ]
    }
   ],
   "source": [
    "# Extract the column names for clarity and dictionary keys\n",
    "columns = data['dataset']['column_names']\n",
    "print(columns)"
   ]
  },
  {
   "cell_type": "code",
   "execution_count": 13,
   "metadata": {},
   "outputs": [],
   "source": [
    "# Extract the data for analysis\n",
    "AFX_X = data['dataset']['data']\n",
    "\n",
    "# Collect data from 2017 and add to dictionary\n",
    "AFX_dict = defaultdict(list)\n",
    "for row in AFX_X:\n",
    "    # Convert the first element to a date object\n",
    "    date = datetime.strptime(row[0], '%Y-%m-%d')\n",
    "    if date.year == 2017:\n",
    "        # Set the dictionary key to the month and add the location (fifth element) to the values list\n",
    "        AFX_dict[date].append(row[1:7])"
   ]
  },
  {
   "cell_type": "markdown",
   "metadata": {},
   "source": [
    "# Question 3"
   ]
  },
  {
   "cell_type": "code",
   "execution_count": 14,
   "metadata": {},
   "outputs": [
    {
     "name": "stdout",
     "output_type": "stream",
     "text": [
      "The greatest opening price in 2017 was: 53.11\n"
     ]
    }
   ],
   "source": [
    "open_price = []\n",
    "for k, v in AFX_dict.items():\n",
    "    for open_p, high, low, close, change, volume in v:\n",
    "        if open_p is None:\n",
    "            0\n",
    "        else:\n",
    "            open_price.append(open_p)\n",
    "print('The greatest opening price in 2017 was: ' + str(max(open_price)))"
   ]
  },
  {
   "cell_type": "markdown",
   "metadata": {},
   "source": [
    "# Question 4"
   ]
  },
  {
   "cell_type": "code",
   "execution_count": 15,
   "metadata": {},
   "outputs": [
    {
     "name": "stdout",
     "output_type": "stream",
     "text": [
      "The greatest daily stock price change in 2017 was: 53.09\n"
     ]
    }
   ],
   "source": [
    "daily_change = []\n",
    "for k, v in AFX_dict.items():\n",
    "    for open_p, high_p, low_p, close, change, volume in v:\n",
    "        if high_p is None:\n",
    "            0\n",
    "        else:\n",
    "            daily_change.append(close)\n",
    "print('The greatest daily stock price change in 2017 was: ' + str(max(daily_change)))"
   ]
  },
  {
   "cell_type": "markdown",
   "metadata": {},
   "source": [
    "# Question 5"
   ]
  },
  {
   "cell_type": "code",
   "execution_count": 16,
   "metadata": {},
   "outputs": [
    {
     "name": "stdout",
     "output_type": "stream",
     "text": [
      "The greatest two day stock price change in 2017 was: 2.559999999999995\n"
     ]
    }
   ],
   "source": [
    "daily_close = []\n",
    "for k, v in AFX_dict.items():\n",
    "    for open_p, high_p, low_p, close, change, volume in v:\n",
    "        if close is None:\n",
    "            0\n",
    "        else:\n",
    "            daily_close.append(close)\n",
    "\n",
    "my_dict = {}\n",
    "my_daily_change = []\n",
    "\n",
    "my_list = enumerate(daily_close)\n",
    "for c, value in my_list:\n",
    "    my_dict[c] = value\n",
    "for key in range(1, len(my_dict)):\n",
    "    my_daily_change.append(my_dict[key] - my_dict[(key - 1)])\n",
    "\n",
    "print('The greatest two day stock price change in 2017 was: ' + str(max(my_daily_change)))"
   ]
  },
  {
   "cell_type": "markdown",
   "metadata": {},
   "source": [
    "# Question 6"
   ]
  },
  {
   "cell_type": "code",
   "execution_count": 22,
   "metadata": {},
   "outputs": [
    {
     "name": "stdout",
     "output_type": "stream",
     "text": [
      "The average trading volume per day in 2017 was: 89124.33725490196\n"
     ]
    }
   ],
   "source": [
    "daily_vol = []\n",
    "for k, v in AFX_dict.items():\n",
    "    for open_p, high_p, low_p, close, change, volume in v:\n",
    "        if volume is None:\n",
    "            print(0)\n",
    "        else:\n",
    "            daily_vol.append(volume)\n",
    "print('The average trading volume per day in 2017 was: ' + str(sum(daily_vol) / len(daily_vol)))"
   ]
  }
 ],
 "metadata": {
  "kernelspec": {
   "display_name": "Python 3",
   "language": "python",
   "name": "python3"
  },
  "language_info": {
   "codemirror_mode": {
    "name": "ipython",
    "version": 3
   },
   "file_extension": ".py",
   "mimetype": "text/x-python",
   "name": "python",
   "nbconvert_exporter": "python",
   "pygments_lexer": "ipython3",
   "version": "3.6.5"
  }
 },
 "nbformat": 4,
 "nbformat_minor": 2
}
