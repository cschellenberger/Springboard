{
 "cells": [
  {
   "cell_type": "markdown",
   "metadata": {},
   "source": [
    "# Predictive Analysis\n",
    "\n",
    "The following analysis was performed on an **Amazon EC2** instance running the latest anaconda packages (as of Nov. 2018) and Python 3.7.\n",
    "\n",
    "All data was imported from **Amazon S3 Buckets**\n",
    "\n",
    "To stay within the free tier provided by Amazon, a limited test set of 10,000 randomly chosen samples was utilized. The memory limitation could be overcome by utilizing a scaling option within the EC2 instance.\n",
    "\n",
    "The following analysis shows that additional feature engineering is required. Most noteably:\n",
    "- All available data should be utilized in future analysis to aquire the most predictive model possible\n",
    "- MLS Real Estate data should be made available for training the model\n",
    "    - Features that included number of rooms and housing size (area) would drastically improve the model\n",
    "    - We can see from datasets such as the [Boston Housing](https://www.cs.toronto.edu/~delve/data/boston/bostonDetail.html) dataset, that these are powerful features for value prediction.\n",
    "- Training the data on a previous year's data should be tested on the current year's data to see the relevance of predicting annual data from the model "
   ]
  },
  {
   "cell_type": "code",
   "execution_count": 1,
   "metadata": {},
   "outputs": [],
   "source": [
    "import pandas as pd\n",
    "import numpy as np\n",
    "from sklearn.metrics import mean_squared_error, make_scorer"
   ]
  },
  {
   "cell_type": "code",
   "execution_count": 2,
   "metadata": {},
   "outputs": [
    {
     "data": {
      "text/html": [
       "<div>\n",
       "<style scoped>\n",
       "    .dataframe tbody tr th:only-of-type {\n",
       "        vertical-align: middle;\n",
       "    }\n",
       "\n",
       "    .dataframe tbody tr th {\n",
       "        vertical-align: top;\n",
       "    }\n",
       "\n",
       "    .dataframe thead th {\n",
       "        text-align: right;\n",
       "    }\n",
       "</style>\n",
       "<table border=\"1\" class=\"dataframe\">\n",
       "  <thead>\n",
       "    <tr style=\"text-align: right;\">\n",
       "      <th></th>\n",
       "      <th>value</th>\n",
       "      <th>nb_id</th>\n",
       "      <th>garage</th>\n",
       "      <th>zoning</th>\n",
       "      <th>lot_size</th>\n",
       "      <th>year_built</th>\n",
       "      <th>crime_per_capita</th>\n",
       "    </tr>\n",
       "  </thead>\n",
       "  <tbody>\n",
       "    <tr>\n",
       "      <th>0</th>\n",
       "      <td>312500</td>\n",
       "      <td>6350.0</td>\n",
       "      <td>True</td>\n",
       "      <td>RF1</td>\n",
       "      <td>557.0</td>\n",
       "      <td>1964.0</td>\n",
       "      <td>0.012926</td>\n",
       "    </tr>\n",
       "    <tr>\n",
       "      <th>1</th>\n",
       "      <td>388500</td>\n",
       "      <td>6350.0</td>\n",
       "      <td>True</td>\n",
       "      <td>RF1</td>\n",
       "      <td>566.0</td>\n",
       "      <td>1962.0</td>\n",
       "      <td>0.012926</td>\n",
       "    </tr>\n",
       "    <tr>\n",
       "      <th>2</th>\n",
       "      <td>554500</td>\n",
       "      <td>6350.0</td>\n",
       "      <td>True</td>\n",
       "      <td>RF4</td>\n",
       "      <td>886.0</td>\n",
       "      <td>1968.0</td>\n",
       "      <td>0.012926</td>\n",
       "    </tr>\n",
       "    <tr>\n",
       "      <th>3</th>\n",
       "      <td>421500</td>\n",
       "      <td>6350.0</td>\n",
       "      <td>True</td>\n",
       "      <td>RF1</td>\n",
       "      <td>580.0</td>\n",
       "      <td>1962.0</td>\n",
       "      <td>0.012926</td>\n",
       "    </tr>\n",
       "    <tr>\n",
       "      <th>4</th>\n",
       "      <td>413000</td>\n",
       "      <td>6350.0</td>\n",
       "      <td>True</td>\n",
       "      <td>RF1</td>\n",
       "      <td>554.0</td>\n",
       "      <td>1965.0</td>\n",
       "      <td>0.012926</td>\n",
       "    </tr>\n",
       "  </tbody>\n",
       "</table>\n",
       "</div>"
      ],
      "text/plain": [
       "    value   nb_id  garage zoning  lot_size  year_built  crime_per_capita\n",
       "0  312500  6350.0    True    RF1     557.0      1964.0          0.012926\n",
       "1  388500  6350.0    True    RF1     566.0      1962.0          0.012926\n",
       "2  554500  6350.0    True    RF4     886.0      1968.0          0.012926\n",
       "3  421500  6350.0    True    RF1     580.0      1962.0          0.012926\n",
       "4  413000  6350.0    True    RF1     554.0      1965.0          0.012926"
      ]
     },
     "execution_count": 2,
     "metadata": {},
     "output_type": "execute_result"
    }
   ],
   "source": [
    "ml = pd.read_csv('https://s3-us-west-2.amazonaws.com/schellenbergers3bucket/property_assess_1')\n",
    "ml.head()"
   ]
  },
  {
   "cell_type": "code",
   "execution_count": 3,
   "metadata": {},
   "outputs": [
    {
     "data": {
      "text/plain": [
       "array([100838, 153053, 287741, ..., 272948, 114375,  38744])"
      ]
     },
     "execution_count": 3,
     "metadata": {},
     "output_type": "execute_result"
    }
   ],
   "source": [
    "inds = np.random.choice(len(ml), 10000)\n",
    "inds"
   ]
  },
  {
   "cell_type": "code",
   "execution_count": 4,
   "metadata": {},
   "outputs": [],
   "source": [
    "dummy_cols = ['nb_id', 'garage', 'zoning']\n",
    "df = pd.get_dummies(ml, columns=dummy_cols, drop_first=True)\n",
    "df = df.iloc[list(inds)]"
   ]
  },
  {
   "cell_type": "code",
   "execution_count": 5,
   "metadata": {},
   "outputs": [
    {
     "data": {
      "text/plain": [
       "10000"
      ]
     },
     "execution_count": 5,
     "metadata": {},
     "output_type": "execute_result"
    }
   ],
   "source": [
    "len(df)"
   ]
  },
  {
   "cell_type": "code",
   "execution_count": 6,
   "metadata": {},
   "outputs": [],
   "source": [
    "X = df.drop('value', axis=1).values\n",
    "y = df['value'].values"
   ]
  },
  {
   "cell_type": "code",
   "execution_count": 7,
   "metadata": {},
   "outputs": [
    {
     "data": {
      "text/plain": [
       "array([[318000],\n",
       "       [388000],\n",
       "       [192500],\n",
       "       ...,\n",
       "       [363000],\n",
       "       [331000],\n",
       "       [109000]])"
      ]
     },
     "execution_count": 7,
     "metadata": {},
     "output_type": "execute_result"
    }
   ],
   "source": [
    "y.reshape(-1,1)"
   ]
  },
  {
   "cell_type": "code",
   "execution_count": 8,
   "metadata": {},
   "outputs": [
    {
     "name": "stderr",
     "output_type": "stream",
     "text": [
      "/home/ec2-user/anaconda3/envs/py36/lib/python3.6/site-packages/sklearn/ensemble/weight_boosting.py:29: DeprecationWarning: numpy.core.umath_tests is an internal NumPy module and should not be imported. It will be removed in a future NumPy release.\n",
      "  from numpy.core.umath_tests import inner1d\n"
     ]
    }
   ],
   "source": [
    "from sklearn.preprocessing import StandardScaler, Imputer\n",
    "from sklearn.metrics import mean_squared_error, make_scorer\n",
    "from sklearn.ensemble import RandomForestRegressor\n",
    "from sklearn.pipeline import Pipeline\n",
    "from sklearn.model_selection import train_test_split, GridSearchCV"
   ]
  },
  {
   "cell_type": "code",
   "execution_count": 9,
   "metadata": {},
   "outputs": [],
   "source": [
    "scoring = make_scorer(mean_squared_error)"
   ]
  },
  {
   "cell_type": "markdown",
   "metadata": {},
   "source": [
    "# RandomForest"
   ]
  },
  {
   "cell_type": "code",
   "execution_count": 11,
   "metadata": {},
   "outputs": [
    {
     "name": "stdout",
     "output_type": "stream",
     "text": [
      "Tuned RandomForest estimators: {'rfr__n_estimators': 150}\n",
      "Tuned RandomForest Mean Squared Error: 14547303036.63804\n",
      "Mean Error: 120612.20102725114\n"
     ]
    }
   ],
   "source": [
    "# Setup the pipeline steps: steps\n",
    "steps = [('imputation', Imputer(missing_values='NaN', strategy='mean', axis=0)),\n",
    "         ('scaler', StandardScaler(copy=True, with_mean=False, with_std=True)),\n",
    "         ('rfr', RandomForestRegressor(max_depth=10, random_state=123, max_features=None))]\n",
    "\n",
    "# Create the pipeline: pipeline \n",
    "pipeline = Pipeline(steps)\n",
    "\n",
    "# Specify the hyperparameter space\n",
    "parameters = {'rfr__n_estimators':(121, 150)}\n",
    "\n",
    "# Create train and test sets\n",
    "X_train, X_test, y_train, y_test = train_test_split(X, y, test_size=0.4, random_state=123)\n",
    "\n",
    "# Create the GridSearchCV object: yeg_cv\n",
    "yeg_cv = GridSearchCV(pipeline, param_grid=parameters, scoring= scoring, cv=5)\n",
    "\n",
    "# Fit to the training set\n",
    "yeg_cv.fit(X_train, y_train)\n",
    "\n",
    "# Compute and print the metrics\n",
    "mse = yeg_cv.score(X_test, y_test)\n",
    "print(\"Tuned RandomForest estimators: {}\".format(yeg_cv.best_params_))\n",
    "print(\"Tuned RandomForest Mean Squared Error: {}\".format(mse))\n",
    "print('Mean Error:', np.sqrt(mse))"
   ]
  },
  {
   "cell_type": "code",
   "execution_count": 16,
   "metadata": {},
   "outputs": [
    {
     "name": "stdout",
     "output_type": "stream",
     "text": [
      "predicted value: [451975.32584509] actual value: [[376500]]\n",
      "predicted value: [359591.91606518] actual value: [[415500]]\n",
      "predicted value: [331644.21804453] actual value: [[267000]]\n",
      "predicted value: [210460.69161245] actual value: [[211500]]\n"
     ]
    }
   ],
   "source": [
    "print('predicted value:', yeg_cv.predict(np.atleast_2d(X_test[1])), 'actual value:', np.atleast_2d(y_test[1]))\n",
    "print('predicted value:', yeg_cv.predict(np.atleast_2d(X_test[10])), 'actual value:', np.atleast_2d(y_test[10]))\n",
    "print('predicted value:', yeg_cv.predict(np.atleast_2d(X_test[100])), 'actual value:', np.atleast_2d(y_test[100]))\n",
    "print('predicted value:', yeg_cv.predict(np.atleast_2d(X_test[1000])), 'actual value:', np.atleast_2d(y_test[1000]))"
   ]
  },
  {
   "cell_type": "markdown",
   "metadata": {},
   "source": [
    "# ExtraTreesRegressor"
   ]
  },
  {
   "cell_type": "code",
   "execution_count": 17,
   "metadata": {},
   "outputs": [
    {
     "name": "stdout",
     "output_type": "stream",
     "text": [
      "Tuned RandomForest estimators: {'rfr__n_estimators': 121}\n",
      "Tuned RandomForest Mean Squared Error: 13560600712.697529\n",
      "Mean Error: 116449.99232588007\n"
     ]
    }
   ],
   "source": [
    "from sklearn.ensemble import ExtraTreesRegressor\n",
    "# Setup the pipeline steps: steps\n",
    "steps = [('imputation', Imputer(missing_values='NaN', strategy='mean', axis=0)),\n",
    "         ('scaler', StandardScaler(copy=True, with_mean=False, with_std=True)),\n",
    "         ('rfr', ExtraTreesRegressor(bootstrap=True, criterion='mse', max_depth=None, \n",
    "                                     max_features='sqrt', max_leaf_nodes=None, \n",
    "                                     min_impurity_decrease=0.0, min_impurity_split=None, \n",
    "                                     min_samples_leaf=1, min_samples_split=2, \n",
    "                                     min_weight_fraction_leaf=0.0, n_jobs=1, \n",
    "                                     oob_score=False, random_state=0, verbose=False, warm_start=False))]\n",
    "\n",
    "# Create the pipeline: pipeline \n",
    "pipeline = Pipeline(steps)\n",
    "\n",
    "# Specify the hyperparameter space\n",
    "parameters = {'rfr__n_estimators':(121, 150)}\n",
    "\n",
    "# Create train and test sets\n",
    "X_train, X_test, y_train, y_test = train_test_split(X, y, test_size=0.4, random_state=123)\n",
    "\n",
    "# Create the GridSearchCV object: yeg_cv\n",
    "yeg_cv = GridSearchCV(pipeline, param_grid=parameters, scoring= scoring, cv=5)\n",
    "\n",
    "# Fit to the training set\n",
    "yeg_cv.fit(X_train, y_train)\n",
    "\n",
    "# Compute and print the metrics\n",
    "mse = yeg_cv.score(X_test, y_test)\n",
    "print(\"Tuned RandomForest estimators: {}\".format(yeg_cv.best_params_))\n",
    "print(\"Tuned RandomForest Mean Squared Error: {}\".format(mse))\n",
    "print('Mean Error:', np.sqrt(mse))"
   ]
  },
  {
   "cell_type": "code",
   "execution_count": 18,
   "metadata": {},
   "outputs": [
    {
     "name": "stdout",
     "output_type": "stream",
     "text": [
      "predicted value: [562116.73553719] actual value: [[376500]]\n",
      "predicted value: [384214.87603306] actual value: [[415500]]\n",
      "predicted value: [274422.67867578] actual value: [[267000]]\n",
      "predicted value: [194538.31168831] actual value: [[211500]]\n"
     ]
    }
   ],
   "source": [
    "print('predicted value:', yeg_cv.predict(np.atleast_2d(X_test[1])), 'actual value:', np.atleast_2d(y_test[1]))\n",
    "print('predicted value:', yeg_cv.predict(np.atleast_2d(X_test[10])), 'actual value:', np.atleast_2d(y_test[10]))\n",
    "print('predicted value:', yeg_cv.predict(np.atleast_2d(X_test[100])), 'actual value:', np.atleast_2d(y_test[100]))\n",
    "print('predicted value:', yeg_cv.predict(np.atleast_2d(X_test[1000])), 'actual value:', np.atleast_2d(y_test[1000]))"
   ]
  },
  {
   "cell_type": "code",
   "execution_count": null,
   "metadata": {},
   "outputs": [],
   "source": []
  }
 ],
 "metadata": {
  "kernelspec": {
   "display_name": "Python 3",
   "language": "python",
   "name": "python3"
  },
  "language_info": {
   "codemirror_mode": {
    "name": "ipython",
    "version": 3
   },
   "file_extension": ".py",
   "mimetype": "text/x-python",
   "name": "python",
   "nbconvert_exporter": "python",
   "pygments_lexer": "ipython3",
   "version": "3.6.6"
  }
 },
 "nbformat": 4,
 "nbformat_minor": 2
}
