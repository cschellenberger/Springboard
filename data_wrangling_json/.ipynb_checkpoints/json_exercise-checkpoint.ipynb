{
 "cells": [
  {
   "cell_type": "markdown",
   "metadata": {},
   "source": [
    "****\n",
    "## JSON exercise\n",
    "\n",
    "Using data in file 'world_bank_projects.json' and the techniques demonstrated above,\n",
    "1. Find the 10 countries with most projects\n",
    "2. Find the top 10 major project themes (using column 'mjtheme_namecode')\n",
    "3. In 2. above you will notice that some entries have only the code and the name is missing. Create a dataframe with the missing names filled in."
   ]
  },
  {
   "cell_type": "code",
   "execution_count": 9,
   "metadata": {},
   "outputs": [],
   "source": [
    "# inspecting the json data for country and project information.\n",
    "df = pd.read_json('world_bank_projects.json')"
   ]
  },
  {
   "cell_type": "code",
   "execution_count": 11,
   "metadata": {},
   "outputs": [],
   "source": [
    "# filter relevant columns for aggregating over country.\n",
    "columns = ['countryshortname', 'project_name', 'mjtheme_namecode', 'status', 'totalcommamt']\n",
    "\n",
    "country_projects = df.loc[:, columns]"
   ]
  },
  {
   "cell_type": "markdown",
   "metadata": {},
   "source": [
    "## Investigate question 1:\n",
    "With an overview of the dataset, we can now isolate the country in the `countryshortname` column and count the unique values to find which country has the most projects.\n",
    "\n",
    "- **Indonesia** and **China** have the most projects at **19**.\n",
    "- 438 of the projects were active at the time of this collection and 62 were closed"
   ]
  },
  {
   "cell_type": "code",
   "execution_count": 12,
   "metadata": {},
   "outputs": [
    {
     "name": "stdout",
     "output_type": "stream",
     "text": [
      "China                 19\n",
      "Indonesia             19\n",
      "Vietnam               17\n",
      "India                 16\n",
      "Yemen, Republic of    13\n",
      "Nepal                 12\n",
      "Morocco               12\n",
      "Bangladesh            12\n",
      "Africa                11\n",
      "Mozambique            11\n",
      "Name: countryshortname, dtype: int64\n"
     ]
    }
   ],
   "source": [
    "# Count the unique instances of country name in the DataFrame.\n",
    "top_10_proj_freq = country_projects['countryshortname'].value_counts(dropna=False)[:10]\n",
    "\n",
    "print(top_10_proj_freq)"
   ]
  },
  {
   "cell_type": "markdown",
   "metadata": {},
   "source": [
    "# Question 1:\n",
    "## Visualize the top 10 project funding recipients from the world bank\n",
    "The following bar graph represents the 10 countries with the most projects funded through the world bank."
   ]
  },
  {
   "cell_type": "code",
   "execution_count": 14,
   "metadata": {},
   "outputs": [
    {
     "data": {
      "image/png": "[encoded data removed]",
      "text/plain": [
       "<Figure size 432x288 with 1 Axes>"
      ]
     },
     "metadata": {},
     "output_type": "display_data"
    }
   ],
   "source": [
    "import matplotlib.pyplot as plt\n",
    "top_10_proj_freq.plot(kind='bar', grid=True, title='Top Ten Countries with \\nWorld Bank Funded Projects')\n",
    "plt.ylabel('Number of Projects')\n",
    "plt.show()"
   ]
  },
  {
   "cell_type": "code",
   "execution_count": 15,
   "metadata": {},
   "outputs": [],
   "source": [
    "# Extract the theme code column from the dataset.\n",
    "theme_code = country_projects['mjtheme_namecode']"
   ]
  },
  {
   "cell_type": "markdown",
   "metadata": {},
   "source": [
    "*This next step was done manually to facilitate the merge operations.*"
   ]
  },
  {
   "cell_type": "code",
   "execution_count": 16,
   "metadata": {},
   "outputs": [],
   "source": [
    "# Generate ordered reference lists for filling in missing data.\n",
    "theme_code_reference = [1, 2, 3, 4, 5, 6, 7, 8, 9, 10, 11]\n",
    "theme_name_reference = ['Economic management', 'Public sector governance', 'Rule of law', 'Financial and private sector development', 'Trade and integration', 'Social protection and risk management', 'Social dev/gender/inclusion', 'Human development', 'Urban development', 'Rural development', 'Environment and natural resources management']"
   ]
  },
  {
   "cell_type": "code",
   "execution_count": 17,
   "metadata": {},
   "outputs": [],
   "source": [
    "# Populate a reference DataFrame for merging and filling in missing data.\n",
    "reference_df = pd.DataFrame()\n",
    "reference_df['code_ref'] = theme_code_reference\n",
    "reference_df['name_ref'] = theme_name_reference"
   ]
  },
  {
   "cell_type": "code",
   "execution_count": 18,
   "metadata": {},
   "outputs": [],
   "source": [
    "# Open an empty dict to count instances of the theme code.\n",
    "theme_count = {}\n",
    "# Open empty lists to hold the values stored in the nested dictionaries.\n",
    "code_list = []\n",
    "the_list = []\n",
    "\n",
    "for theme_list in theme_code:\n",
    "    for theme_dict in theme_list:\n",
    "        code = theme_dict['code']\n",
    "        theme = theme_dict['name']\n",
    "        \n",
    "        code_list.append(int(code))\n",
    "        the_list.append(theme)\n",
    "        \n",
    "        if code in theme_count.keys():\n",
    "            theme_count[code] += 1\n",
    "        else:\n",
    "            theme_count[code] = 1"
   ]
  },
  {
   "cell_type": "code",
   "execution_count": 19,
   "metadata": {},
   "outputs": [],
   "source": [
    "# Convert dictionary of counts to lists for importing to a DataFrame.\n",
    "theme_codes_list = []\n",
    "theme_count_list = []\n",
    "\n",
    "for (key, value) in theme_count.items():\n",
    "    theme_codes_list.append(int(key))\n",
    "    theme_count_list.append(value)"
   ]
  },
  {
   "cell_type": "code",
   "execution_count": 21,
   "metadata": {},
   "outputs": [
    {
     "name": "stdout",
     "output_type": "stream",
     "text": [
      "   theme_code                                      name_ref  theme_count\n",
      "0          11  Environment and natural resources management          250\n",
      "1          10                             Rural development          216\n",
      "2           8                             Human development          210\n",
      "3           2                      Public sector governance          199\n",
      "4           6         Social protection and risk management          168\n",
      "5           4      Financial and private sector development          146\n",
      "6           7                   Social dev/gender/inclusion          130\n",
      "7           5                         Trade and integration           77\n",
      "8           9                             Urban development           50\n",
      "9           1                           Economic management           38\n"
     ]
    }
   ],
   "source": [
    "# Generate a DataFrame from the codes and count lists.\n",
    "code_freq = pd.DataFrame(columns=['theme_code', 'theme_count'])\n",
    "code_freq.theme_code = theme_codes_list\n",
    "code_freq.theme_count = theme_count_list\n",
    "\n",
    "# Sort the DataFrame on the 'theme_count' column to answer question 2.\n",
    "df_sorted = code_freq.sort_values(by=['theme_count'], ascending=False)\n",
    "# Merge the names of the theme to give context.\n",
    "df_sorted_merge = df_sorted.merge(reference_df, how='left', left_on='theme_code', right_on='code_ref')\n",
    "# Filter and reorder columns for easy viewing.\n",
    "df_sorted_merge = df_sorted_merge.loc[:, ['theme_code', 'name_ref', 'theme_count']]\n"
   ]
  },
  {
   "cell_type": "markdown",
   "metadata": {},
   "source": [
    "### The following displays the top ten project themes from Environment and natural resources management (with 250 projects) to Economic management (with 38 projects): "
   ]
  },
  {
   "cell_type": "code",
   "execution_count": 22,
   "metadata": {},
   "outputs": [
    {
     "name": "stdout",
     "output_type": "stream",
     "text": [
      "   theme_code                                      name_ref  theme_count\n",
      "0          11  Environment and natural resources management          250\n",
      "1          10                             Rural development          216\n",
      "2           8                             Human development          210\n",
      "3           2                      Public sector governance          199\n",
      "4           6         Social protection and risk management          168\n",
      "5           4      Financial and private sector development          146\n",
      "6           7                   Social dev/gender/inclusion          130\n",
      "7           5                         Trade and integration           77\n",
      "8           9                             Urban development           50\n",
      "9           1                           Economic management           38\n"
     ]
    }
   ],
   "source": [
    "print(df_sorted_merge.head(10))"
   ]
  },
  {
   "cell_type": "markdown",
   "metadata": {},
   "source": [
    "# Question 3\n",
    "## Filling in missing values"
   ]
  },
  {
   "cell_type": "code",
   "execution_count": 23,
   "metadata": {},
   "outputs": [],
   "source": [
    "# Generate a new DataFrame and populate two columns.\n",
    "fill_df = pd.DataFrame()\n",
    "fill_df['Theme Code'] = code_list\n",
    "fill_df['Theme Name'] = the_list\n",
    "\n",
    "# Sort the DataFrame by 'Theme Code' and reset the index.\n",
    "fill_df_sorted = fill_df.sort_values(by=['Theme Code'])\n",
    "fill_df_sorted = fill_df_sorted.reset_index()\n",
    "\n",
    "# Remove the resulting index column 'index'.\n",
    "theme_df_clean = fill_df_sorted.loc[:, ['Theme Code', 'Theme Name']]"
   ]
  },
  {
   "cell_type": "code",
   "execution_count": 24,
   "metadata": {},
   "outputs": [
    {
     "name": "stdout",
     "output_type": "stream",
     "text": [
      "Environment and natural resources management    223\n",
      "Rural development                               202\n",
      "Human development                               197\n",
      "Public sector governance                        184\n",
      "Social protection and risk management           158\n",
      "Financial and private sector development        130\n",
      "                                                122\n",
      "Social dev/gender/inclusion                     119\n",
      "Trade and integration                            72\n",
      "Urban development                                47\n",
      "Economic management                              33\n",
      "Rule of law                                      12\n",
      "Name: Theme Name, dtype: int64\n"
     ]
    }
   ],
   "source": [
    "# Understand how many missing values there are in the 'Theme Name'.\n",
    "print(theme_df_clean['Theme Name'].value_counts())"
   ]
  },
  {
   "cell_type": "code",
   "execution_count": 25,
   "metadata": {},
   "outputs": [
    {
     "name": "stdout",
     "output_type": "stream",
     "text": [
      "Environment and natural resources management    250\n",
      "Rural development                               216\n",
      "Human development                               210\n",
      "Public sector governance                        199\n",
      "Social protection and risk management           168\n",
      "Financial and private sector development        146\n",
      "Social dev/gender/inclusion                     130\n",
      "Trade and integration                            77\n",
      "Urban development                                50\n",
      "Economic management                              38\n",
      "Rule of law                                      15\n",
      "Name: name_ref, dtype: int64\n"
     ]
    }
   ],
   "source": [
    "# Merge the DataFrame with the reference data to fill in missing values.\n",
    "df_merged = theme_df_clean.merge(reference_df, how='left', left_on='Theme Code', right_on='code_ref')\n",
    "\n",
    "# Remove duplicated columns resulting from the merge.\n",
    "df_final = df_merged.loc[:, ['code_ref', 'name_ref']]\n",
    "print(df_final['name_ref'].value_counts())"
   ]
  },
  {
   "cell_type": "code",
   "execution_count": 26,
   "metadata": {},
   "outputs": [
    {
     "data": {
      "image/png": "[encoded data removed]",
      "text/plain": [
       "<Figure size 432x288 with 1 Axes>"
      ]
     },
     "metadata": {},
     "output_type": "display_data"
    }
   ],
   "source": [
    "# Generate counts of the unique themes and plot.\n",
    "theme_project_counts = df_final['name_ref'].value_counts(dropna=False)\n",
    "\n",
    "theme_project_counts.plot(kind='bar', grid=True, title='Projects by Theme')\n",
    "plt.ylabel('Number of Projects')\n",
    "plt.show()"
   ]
  },
  {
   "cell_type": "code",
   "execution_count": null,
   "metadata": {},
   "outputs": [],
   "source": []
  }
 ],
 "metadata": {
  "kernelspec": {
   "display_name": "Python 3",
   "language": "python",
   "name": "python3"
  },
  "language_info": {
   "codemirror_mode": {
    "name": "ipython",
    "version": 3
   },
   "file_extension": ".py",
   "mimetype": "text/x-python",
   "name": "python",
   "nbconvert_exporter": "python",
   "pygments_lexer": "ipython3",
   "version": "3.6.5"
  }
 },
 "nbformat": 4,
 "nbformat_minor": 1
}
